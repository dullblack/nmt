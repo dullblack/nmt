{
 "cells": [
  {
   "cell_type": "code",
   "execution_count": 7,
   "metadata": {},
   "outputs": [],
   "source": [
    "import collections\n",
    "import pre\n",
    "import numpy as np\n",
    "import project_tests as tests\n",
    "from keras.preprocessing.text import Tokenizer\n",
    "from keras.preprocessing.sequence import pad_sequences\n",
    "from keras.models import Model\n",
    "from keras.layers import GRU, Input, Dense, TimeDistributed, Activation, RepeatVector, Bidirectional\n",
    "from keras.layers.embeddings import Embedding\n",
    "from keras.optimizers import Adam\n",
    "from keras.losses import sparse_categorical_crossentropy\n"
   ]
  },
  {
   "cell_type": "code",
   "execution_count": 9,
   "metadata": {},
   "outputs": [
    {
     "name": "stdout",
     "output_type": "stream",
     "text": [
      "Dataset Loaded\n",
      "new jersey is sometimes quiet during autumn , and it is snowy in april .\n"
     ]
    }
   ],
   "source": [
    "english_sentences = pre.load_data('data/small_vocab_en')\n",
    "french_sentences = pre.load_data('data/small_vocab_fr')\n",
    "print('Dataset Loaded')\n",
    "print(english_sentences[0])"
   ]
  },
  {
   "cell_type": "code",
   "execution_count": 11,
   "metadata": {},
   "outputs": [
    {
     "name": "stdout",
     "output_type": "stream",
     "text": [
      "small_vocab_en Line 1:new jersey is sometimes quiet during autumn , and it is snowy in april .\n",
      "small_vocab_fr Line 1:new jersey est parfois calme pendant l' automne , et il est neigeux en avril .\n",
      "small_vocab_en Line 2:the united states is usually chilly during july , and it is usually freezing in november .\n",
      "small_vocab_fr Line 2:les états-unis est généralement froid en juillet , et il gèle habituellement en novembre .\n"
     ]
    }
   ],
   "source": [
    "for sample_i in range(2):\n",
    "    print('small_vocab_en Line {}:{}'.format(sample_i + 1,english_sentences[sample_i]))\n",
    "    print('small_vocab_fr Line {}:{}'.format(sample_i + 1,french_sentences[sample_i]))"
   ]
  },
  {
   "cell_type": "code",
   "execution_count": 14,
   "metadata": {},
   "outputs": [
    {
     "name": "stdout",
     "output_type": "stream",
     "text": [
      "1823250 English words.\n",
      "227 unique English words.\n",
      "10 MOst commmon words in the English dataset:\n",
      "\"is\" \",\" \".\" \"in\" \"it\" \"during\" \"the\" \"but\" \"and\" \"sometimes\"\n",
      "\n",
      "1961295 french words.\n",
      "355 unique French words.\n",
      "10 MOst commmon words in the French dataset:\n",
      "\"est\" \".\" \",\" \"en\" \"il\" \"les\" \"mais\" \"et\" \"la\" \"parfois\"\n"
     ]
    }
   ],
   "source": [
    "english_words_counter = collections.Counter([word for sentence in english_sentences\n",
    "                                            for word in sentence.split()])\n",
    "french_words_counter = collections.Counter([word for sentence in french_sentences\n",
    "                                           for word in sentence.split()])\n",
    "print('{} English words.'.format(len([word for sentence in english_sentences\n",
    "                                    for word in sentence.split()])))\n",
    "print('{} unique English words.'.format(len(english_words_counter)))\n",
    "print('10 MOst commmon words in the English dataset:')\n",
    "print('\"'+'\" \"'.join(list(zip(*english_words_counter.most_common(10)))[0])+'\"')\n",
    "print()\n",
    "print('{} french words.'.format(len([word for sentence in french_sentences\n",
    "                                    for word in sentence.split()])))\n",
    "print('{} unique French words.'.format(len(french_words_counter)))\n",
    "print('10 MOst commmon words in the French dataset:')\n",
    "print('\"'+'\" \"'.join(list(zip(*french_words_counter.most_common(10)))[0])+'\"')"
   ]
  },
  {
   "cell_type": "code",
   "execution_count": null,
   "metadata": {},
   "outputs": [],
   "source": [
    "def tokenize(x):\n",
    "    x_tk = Tokenizer(char_level=False)\n",
    "    "
   ]
  }
 ],
 "metadata": {
  "kernelspec": {
   "display_name": "Python 3",
   "language": "python",
   "name": "python3"
  },
  "language_info": {
   "codemirror_mode": {
    "name": "ipython",
    "version": 3
   },
   "file_extension": ".py",
   "mimetype": "text/x-python",
   "name": "python",
   "nbconvert_exporter": "python",
   "pygments_lexer": "ipython3",
   "version": "3.5.2"
  }
 },
 "nbformat": 4,
 "nbformat_minor": 2
}
